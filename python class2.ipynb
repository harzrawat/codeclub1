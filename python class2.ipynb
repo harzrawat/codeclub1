{
  "cells": [
    {
      "cell_type": "markdown",
      "metadata": {
        "id": "DlOtkbEOnRxH"
      },
      "source": [
        "# Section 1 : List Basics"
      ]
    },
    {
      "cell_type": "code",
      "execution_count": 8,
      "metadata": {
        "id": "zM4HjHP8nXMx"
      },
      "outputs": [
        {
          "name": "stdout",
          "output_type": "stream",
          "text": [
            "<class 'list'>\n",
            "['34', '45', '34', '2', 'Harsh', 'Ram', 'Basketball']\n"
          ]
        }
      ],
      "source": [
        "# Input several numbers from the user using the input function in one go (each number separated by a space)\n",
        "string = input(\"Enter elements (Space-Separated): \")\n",
        "list_of_inputs = string.split()\n",
        "\n",
        "print(type(list_of_inputs))\n",
        "\n",
        "print(list_of_inputs)"
      ]
    },
    {
      "cell_type": "markdown",
      "metadata": {},
      "source": [
        "DATA STRUCTURES\n",
        "-> LIST, SET ,TUPLE, DICTIONARY"
      ]
    },
    {
      "cell_type": "code",
      "execution_count": 4,
      "metadata": {},
      "outputs": [
        {
          "name": "stdout",
          "output_type": "stream",
          "text": [
            "4\n",
            "3\n",
            "5\n",
            "6\n",
            "3\n"
          ]
        }
      ],
      "source": [
        "for i in range(5):\n",
        "    a=input(\"enter the input\")\n",
        "    list=[a]\n",
        "    print(a)    "
      ]
    },
    {
      "cell_type": "code",
      "execution_count": 11,
      "metadata": {
        "id": "q-P_CJKn-XwM"
      },
      "outputs": [],
      "source": [
        "# Make a list of marks that you got in Physics, Chemistry and Maths in your +2 board exam\n",
        "# Write the marks manually without using the input function\n",
        "\n",
        "marks=[98,95,99]\n"
      ]
    },
    {
      "cell_type": "code",
      "execution_count": 10,
      "metadata": {
        "id": "8esVquAs9ds_"
      },
      "outputs": [
        {
          "name": "stdout",
          "output_type": "stream",
          "text": [
            "[98, 95, 99]\n"
          ]
        }
      ],
      "source": [
        "# Print the list\n",
        "\n",
        "print(marks)\n"
      ]
    },
    {
      "cell_type": "code",
      "execution_count": 37,
      "metadata": {
        "id": "-Z6VdJXC9dv3"
      },
      "outputs": [
        {
          "name": "stdout",
          "output_type": "stream",
          "text": [
            "3\n"
          ]
        }
      ],
      "source": [
        "# Find the length of the list\n",
        "\n",
        "print(len(marks))\n"
      ]
    },
    {
      "cell_type": "code",
      "execution_count": 16,
      "metadata": {
        "id": "RB_pThmn9dyN"
      },
      "outputs": [
        {
          "name": "stdout",
          "output_type": "stream",
          "text": [
            "98\n"
          ]
        }
      ],
      "source": [
        "# Print the first element of the list\n",
        "\n",
        "print(marks[0])"
      ]
    },
    {
      "cell_type": "code",
      "execution_count": 38,
      "metadata": {
        "id": "6hrgb0Sb9d02"
      },
      "outputs": [
        {
          "name": "stdout",
          "output_type": "stream",
          "text": [
            "100\n",
            "100\n"
          ]
        }
      ],
      "source": [
        "# Print the last element of the list\n",
        "\n",
        "print(marks[-1])\n",
        "l=len(marks)-1\n",
        "print(marks[l])\n"
      ]
    },
    {
      "cell_type": "code",
      "execution_count": 18,
      "metadata": {
        "id": "6AEMgv0Q9d38"
      },
      "outputs": [
        {
          "name": "stdout",
          "output_type": "stream",
          "text": [
            "95\n"
          ]
        }
      ],
      "source": [
        "#  Print the second element of the list\n",
        "\n",
        "print(marks[1])"
      ]
    },
    {
      "cell_type": "code",
      "execution_count": 19,
      "metadata": {
        "id": "U6zZL_YgloCv"
      },
      "outputs": [
        {
          "name": "stdout",
          "output_type": "stream",
          "text": [
            "[98, 100, 100]\n"
          ]
        }
      ],
      "source": [
        "# Change your marks for Chemistry and Maths in this list\n",
        "\n",
        "marks[1]=100\n",
        "marks[2]=100\n",
        "print(marks)"
      ]
    },
    {
      "cell_type": "markdown",
      "metadata": {
        "id": "ml2rzueuWTEF"
      },
      "source": [
        "# Section 2 : Simple List functions"
      ]
    },
    {
      "cell_type": "code",
      "execution_count": 62,
      "metadata": {
        "id": "U2ViC-J8niYo"
      },
      "outputs": [
        {
          "name": "stdout",
          "output_type": "stream",
          "text": [
            "[98, 100, 100, 97]\n"
          ]
        }
      ],
      "source": [
        "# Append your marks for Hindi or English to this list\n",
        "hindi=93\n",
        "english=97\n",
        "marks.append(english)                  # adding an input in the list later\n",
        "print(marks)\n",
        "\n"
      ]
    },
    {
      "cell_type": "code",
      "execution_count": 66,
      "metadata": {
        "id": "JvhmhUeo9d9a"
      },
      "outputs": [
        {
          "name": "stdout",
          "output_type": "stream",
          "text": [
            "[98, 95, 99, 97]\n"
          ]
        }
      ],
      "source": [
        "# Create a blank list and append your marks for P, C, M and Language in +2 one by one to this list using the append function\n",
        "# Once done, find the length of the list\n",
        "\n",
        "P=98\n",
        "C=95\n",
        "M=99\n",
        "L=97\n",
        "list2=[]\n",
        "list2.append(P)\n",
        "list2.append(C)\n",
        "list2.append(M)\n",
        "list2.append(L)\n",
        "print(list2)"
      ]
    },
    {
      "cell_type": "code",
      "execution_count": 64,
      "metadata": {},
      "outputs": [
        {
          "data": {
            "text/plain": [
              "' P2=input(\"enter marks in physics\")\\nC2=input(\"enter marks in chemistry\")\\nM2=input(\"enter marks in mathematics\")\\nlist3=[]\\nlist3.append(P2)\\nprint(list3) '"
            ]
          },
          "execution_count": 64,
          "metadata": {},
          "output_type": "execute_result"
        }
      ],
      "source": [
        "# METHOD 2\n",
        "''' P2=input(\"enter marks in physics\")\n",
        "C2=input(\"enter marks in chemistry\")\n",
        "M2=input(\"enter marks in mathematics\")\n",
        "list3=[]\n",
        "list3.append(P2)\n",
        "print(list3) '''"
      ]
    },
    {
      "cell_type": "code",
      "execution_count": 67,
      "metadata": {
        "id": "GJgcw1sP9mtt"
      },
      "outputs": [
        {
          "name": "stdout",
          "output_type": "stream",
          "text": [
            "[99, 97, 100, 100]\n"
          ]
        }
      ],
      "source": [
        "# Create a new blank list and append your marks for Science, Math and Language in 10th class one by one to this list using the append function\n",
        "# Once done, find the length of the list\n",
        "\n",
        "Sci=99\n",
        "Eng=97\n",
        "Math=100\n",
        "IP=100\n",
        "list3=[]\n",
        "list3.append(Sci)\n",
        "list3.append(Eng)\n",
        "list3.append(Math)\n",
        "list3.append(IP)\n",
        "print(list3)\n"
      ]
    },
    {
      "cell_type": "code",
      "execution_count": 68,
      "metadata": {},
      "outputs": [
        {
          "name": "stdout",
          "output_type": "stream",
          "text": [
            "4\n"
          ]
        }
      ],
      "source": [
        "print(len(list3))"
      ]
    },
    {
      "cell_type": "code",
      "execution_count": 75,
      "metadata": {
        "id": "mC5ldExy9mwc"
      },
      "outputs": [
        {
          "name": "stdout",
          "output_type": "stream",
          "text": [
            "[98, 100, 100, 97, 99, 97, 100, 100]\n"
          ]
        }
      ],
      "source": [
        "# Create a new blank list and add to it the marks for +2 and 10th class from the above lists using the extend function\n",
        "list4=[]\n",
        "list4.extend(marks)\n",
        "list4.extend(list3)                      # append permanently adds the data ( means again and again) whereas extend add it temporarily (means only once)\n",
        "print(list4)                              # thah's why we have to assign a variable \n"
      ]
    },
    {
      "cell_type": "code",
      "execution_count": 98,
      "metadata": {},
      "outputs": [
        {
          "name": "stdout",
          "output_type": "stream",
          "text": [
            "[[98, 100, 100, 97]]\n",
            "1\n"
          ]
        }
      ],
      "source": [
        "listt=[]\n",
        "listt.append(marks)\n",
        "print(listt)\n",
        "print(len(listt))"
      ]
    },
    {
      "cell_type": "code",
      "execution_count": 85,
      "metadata": {},
      "outputs": [
        {
          "name": "stdout",
          "output_type": "stream",
          "text": [
            "[98, 100, 100, 97, 99, 97, 100, 100]\n"
          ]
        }
      ],
      "source": [
        "list4=[]\n",
        "list4.extend(marks)\n",
        "list4.extend(list3)                      # append permanently adds the data ( means again and again) whereas extend add it temporarily (means only once)\n",
        "print(list4)                              # thah's why we have to assign a variable \n"
      ]
    },
    {
      "cell_type": "code",
      "execution_count": 94,
      "metadata": {
        "id": "C-0IUVOn9mzD"
      },
      "outputs": [
        {
          "name": "stdout",
          "output_type": "stream",
          "text": [
            "[100, 100, 97, 99, 97, 100, 100, 98]\n",
            "[98, 100, 100, 97, 99, 97, 100, 100]\n"
          ]
        }
      ],
      "source": [
        "# Reverse the above list using the list_name.reverse() function\n",
        "print(list4)\n",
        "list4.reverse()               # make changes in original list\n",
        "print(list4)"
      ]
    },
    {
      "cell_type": "code",
      "execution_count": 133,
      "metadata": {
        "id": "kCkQJSmu9m2L"
      },
      "outputs": [
        {
          "ename": "TypeError",
          "evalue": "'list' object is not callable",
          "output_type": "error",
          "traceback": [
            "\u001b[1;31m---------------------------------------------------------------------------\u001b[0m",
            "\u001b[1;31mTypeError\u001b[0m                                 Traceback (most recent call last)",
            "Cell \u001b[1;32mIn[133], line 2\u001b[0m\n\u001b[0;32m      1\u001b[0m \u001b[39m# Reverse the above (reversed) list using list(reversed(list_name)) function. So you should get back the original lis\u001b[39;00m\n\u001b[1;32m----> 2\u001b[0m list5\u001b[39m=\u001b[39m\u001b[39mlist\u001b[39;49m(\u001b[39mreversed\u001b[39;49m(list4))         \u001b[39m# giving error\u001b[39;00m\n\u001b[0;32m      3\u001b[0m \u001b[39mprint\u001b[39m(list5)\n",
            "\u001b[1;31mTypeError\u001b[0m: 'list' object is not callable"
          ]
        }
      ],
      "source": [
        "# Reverse the above (reversed) list using list(reversed(list_name)) function. So you should get back the original lis\n",
        "list5=list(reversed(list4))         # giving error\n",
        "print(list5)"
      ]
    },
    {
      "cell_type": "code",
      "execution_count": 128,
      "metadata": {},
      "outputs": [
        {
          "name": "stdout",
          "output_type": "stream",
          "text": [
            "[97, 100, 100, 98]\n",
            "[97, 100, 100, 98]\n"
          ]
        }
      ],
      "source": [
        "#method 2\n",
        "print(marks[::-1])\n",
        "print(marks[-1::-1])"
      ]
    },
    {
      "cell_type": "code",
      "execution_count": 115,
      "metadata": {},
      "outputs": [
        {
          "data": {
            "text/plain": [
              "list"
            ]
          },
          "execution_count": 115,
          "metadata": {},
          "output_type": "execute_result"
        }
      ],
      "source": [
        "type(marks)"
      ]
    },
    {
      "cell_type": "code",
      "execution_count": 132,
      "metadata": {
        "id": "-Z1oBJOQ9m4i"
      },
      "outputs": [
        {
          "name": "stdout",
          "output_type": "stream",
          "text": [
            "[98, 95, 99, 97]\n"
          ]
        }
      ],
      "source": [
        "# Remove the Maths marks from all the three lists using list_name.remove(element) function\n",
        "\n",
        "if M in list2:                          # here M was variable assigned to marks in maths for list2\n",
        "    print(list2)\n",
        "else:\n",
        "    print(\"marks of maths are not present in list2\")"
      ]
    },
    {
      "cell_type": "code",
      "execution_count": null,
      "metadata": {
        "id": "Di1e-WdM9m7s"
      },
      "outputs": [],
      "source": [
        "# Before trying to remove an element, better to check if its even there in the list or not\n",
        "\n",
        "# already done above\n"
      ]
    },
    {
      "cell_type": "markdown",
      "metadata": {
        "id": "WChMBslwWCdt"
      },
      "source": [
        "# Section 3 : List Slicing"
      ]
    },
    {
      "cell_type": "code",
      "execution_count": 129,
      "metadata": {
        "id": "JLHlUnj79m-f"
      },
      "outputs": [
        {
          "name": "stdout",
          "output_type": "stream",
          "text": [
            "[98, 100, 100, 97]\n"
          ]
        }
      ],
      "source": [
        "# From the list of all marks, print all the items from second marks onwards\n",
        "\n",
        "print(marks[0::1])"
      ]
    },
    {
      "cell_type": "code",
      "execution_count": 143,
      "metadata": {
        "id": "0PA8e0wx9nBY"
      },
      "outputs": [
        {
          "name": "stdout",
          "output_type": "stream",
          "text": [
            "[100, 100, 97]\n",
            "[100, 100, 97]\n"
          ]
        }
      ],
      "source": [
        "# From the list of all marks, print all the items from second marks up to the fourth marks\n",
        "\n",
        "print(list4[1:4:])\n",
        "print(list4[1:4])"
      ]
    },
    {
      "cell_type": "code",
      "execution_count": 148,
      "metadata": {
        "id": "9PnboOAE9nEP"
      },
      "outputs": [
        {
          "name": "stdout",
          "output_type": "stream",
          "text": [
            "[98, 100, 100, 97, 99, 97, 100, 100]\n",
            "[100, 100, 97, 99, 97, 100]\n",
            "[100, 100, 97, 99, 97, 100]\n"
          ]
        }
      ],
      "source": [
        "# From the list of all marks, print all the items from second marks up to the penultimate( 1 before last or ultimate) marks\n",
        "print(list4)\n",
        "print(list4[1:7:])\n",
        "print(list4[1:len(list4)-1])"
      ]
    },
    {
      "cell_type": "code",
      "execution_count": 139,
      "metadata": {
        "id": "puwG2_LaYnkb"
      },
      "outputs": [
        {
          "name": "stdout",
          "output_type": "stream",
          "text": [
            "[98, 100, 100, 97, 99, 97, 100, 100]\n",
            "[98, 100, 99, 100]\n"
          ]
        }
      ],
      "source": [
        "# Print every element at the odd position in the list\n",
        "print(list4)\n",
        "print(list4[::2])\n"
      ]
    },
    {
      "cell_type": "code",
      "execution_count": 140,
      "metadata": {
        "id": "G7PTQphbYsiM"
      },
      "outputs": [
        {
          "name": "stdout",
          "output_type": "stream",
          "text": [
            "[100, 97, 97, 100]\n"
          ]
        }
      ],
      "source": [
        "# Print every element at the even position in the list\n",
        "print(list4[1::2])"
      ]
    },
    {
      "cell_type": "markdown",
      "metadata": {
        "id": "6kBuGXElV-OI"
      },
      "source": [
        "# Section 4 : Simple List computations"
      ]
    },
    {
      "cell_type": "code",
      "execution_count": 168,
      "metadata": {
        "id": "A9lWq__V9nHH"
      },
      "outputs": [
        {
          "name": "stdout",
          "output_type": "stream",
          "text": [
            "791\n",
            "198\n"
          ]
        }
      ],
      "source": [
        "# Find the sum of all the marks in your list using the sum(list_name) function\n",
        "print(sum(list4))\n",
        "print(sum(list4[0:2]))\n"
      ]
    },
    {
      "cell_type": "code",
      "execution_count": 144,
      "metadata": {
        "id": "eo2ChNLu9nLQ"
      },
      "outputs": [
        {
          "name": "stdout",
          "output_type": "stream",
          "text": [
            "100\n"
          ]
        }
      ],
      "source": [
        "# Find the maximum of all the marks in your list using the max(list_name) function\n",
        "\n",
        "print(max(list4))"
      ]
    },
    {
      "cell_type": "code",
      "execution_count": 149,
      "metadata": {
        "id": "63kzedXlDO-g"
      },
      "outputs": [
        {
          "name": "stdout",
          "output_type": "stream",
          "text": [
            "97\n"
          ]
        }
      ],
      "source": [
        "# Find the minimum of all the marks in your list using the min(list_name) function\n",
        "\n",
        "print(min(list4))"
      ]
    },
    {
      "cell_type": "markdown",
      "metadata": {},
      "source": [
        "Find avg"
      ]
    },
    {
      "cell_type": "code",
      "execution_count": 169,
      "metadata": {},
      "outputs": [
        {
          "name": "stdout",
          "output_type": "stream",
          "text": [
            "98.875\n"
          ]
        }
      ],
      "source": [
        "head=sum(list4)\n",
        "base=len(list4)\n",
        "avg=head/base\n",
        "print(avg)"
      ]
    },
    {
      "cell_type": "markdown",
      "metadata": {
        "id": "2NhjngNAV3II"
      },
      "source": [
        "# Section 5 : Create a List using the range() function"
      ]
    },
    {
      "cell_type": "code",
      "execution_count": null,
      "metadata": {},
      "outputs": [],
      "source": [
        "for i in range(12,23,3):\n",
        "    print(i)"
      ]
    },
    {
      "cell_type": "code",
      "execution_count": 173,
      "metadata": {},
      "outputs": [
        {
          "ename": "TypeError",
          "evalue": "'list' object is not callable",
          "output_type": "error",
          "traceback": [
            "\u001b[1;31m---------------------------------------------------------------------------\u001b[0m",
            "\u001b[1;31mTypeError\u001b[0m                                 Traceback (most recent call last)",
            "Cell \u001b[1;32mIn[173], line 1\u001b[0m\n\u001b[1;32m----> 1\u001b[0m \u001b[39mlist\u001b[39;49m(\u001b[39mrange\u001b[39;49m(\u001b[39m10\u001b[39;49m))\n",
            "\u001b[1;31mTypeError\u001b[0m: 'list' object is not callable"
          ]
        }
      ],
      "source": [
        "list(range(10))"
      ]
    },
    {
      "cell_type": "code",
      "execution_count": 157,
      "metadata": {
        "id": "3ZGvch8YDPH-"
      },
      "outputs": [
        {
          "name": "stdout",
          "output_type": "stream",
          "text": [
            "12\n",
            "15\n",
            "18\n",
            "21\n"
          ]
        }
      ],
      "source": [
        "# Create a list of integers using the list(range(n)) function, where n can be any integer within the limits of your computer\n",
        "list(range(10))\n",
        "\n"
      ]
    },
    {
      "cell_type": "code",
      "execution_count": 158,
      "metadata": {},
      "outputs": [
        {
          "name": "stdout",
          "output_type": "stream",
          "text": [
            "0\n",
            "1\n",
            "2\n",
            "3\n",
            "4\n",
            "5\n",
            "6\n",
            "7\n",
            "8\n",
            "9\n",
            "10\n",
            "11\n",
            "12\n",
            "13\n",
            "14\n"
          ]
        }
      ],
      "source": [
        "for j in range(15):\n",
        "    print(j)"
      ]
    },
    {
      "cell_type": "code",
      "execution_count": 174,
      "metadata": {
        "id": "GxMM3HiODPLD"
      },
      "outputs": [
        {
          "ename": "TypeError",
          "evalue": "'list' object is not callable",
          "output_type": "error",
          "traceback": [
            "\u001b[1;31m---------------------------------------------------------------------------\u001b[0m",
            "\u001b[1;31mTypeError\u001b[0m                                 Traceback (most recent call last)",
            "Cell \u001b[1;32mIn[174], line 3\u001b[0m\n\u001b[0;32m      1\u001b[0m \u001b[39m# What does this function give : list(range(n1, n2))\u001b[39;00m\n\u001b[1;32m----> 3\u001b[0m \u001b[39mlist\u001b[39;49m(\u001b[39mrange\u001b[39;49m(\u001b[39m12\u001b[39;49m,\u001b[39m34\u001b[39;49m))\n",
            "\u001b[1;31mTypeError\u001b[0m: 'list' object is not callable"
          ]
        }
      ],
      "source": [
        "# What does this function give : list(range(n1, n2))\n",
        "\n",
        "print(list(range(12,34)))"
      ]
    },
    {
      "cell_type": "code",
      "execution_count": null,
      "metadata": {
        "id": "JI1lemr2DPNp"
      },
      "outputs": [],
      "source": [
        "# What does this function give : list(range(n1, n2, n3))\n",
        "print(list(range(2,17,2)))"
      ]
    },
    {
      "cell_type": "code",
      "execution_count": null,
      "metadata": {
        "id": "FXBXCz5XJgWT"
      },
      "outputs": [],
      "source": [
        "# Create a list of first 100 integers, and find their sum\n"
      ]
    },
    {
      "cell_type": "code",
      "execution_count": null,
      "metadata": {
        "id": "WdTp1cR9JgZb"
      },
      "outputs": [],
      "source": [
        "# Create a list of first 100 integers, and find their average\n"
      ]
    },
    {
      "cell_type": "code",
      "execution_count": null,
      "metadata": {
        "id": "6G3ZpXIYJgcT"
      },
      "outputs": [],
      "source": [
        "# Create a list of even numbers in the range 1-100, and find their sum as well as average\n"
      ]
    },
    {
      "cell_type": "code",
      "execution_count": null,
      "metadata": {
        "id": "XachAnw3Jgfb"
      },
      "outputs": [],
      "source": [
        "# Create a list of odd numbers in the range 1-100, and find their sum as well as average\n",
        "\n"
      ]
    },
    {
      "cell_type": "code",
      "execution_count": null,
      "metadata": {
        "id": "HVY2L4L4Jgij"
      },
      "outputs": [],
      "source": [
        "# Make a copy of your list and change the first element of this new list. See what happens to the original list\n",
        "\n"
      ]
    },
    {
      "cell_type": "markdown",
      "metadata": {
        "id": "vwK1cyynVWpR"
      },
      "source": [
        "# Section 6 : DIY Exercises"
      ]
    },
    {
      "cell_type": "code",
      "execution_count": null,
      "metadata": {
        "id": "4elIBjlJVZKO"
      },
      "outputs": [],
      "source": [
        "# In a given list of numbers, swap the first and last element\n"
      ]
    },
    {
      "cell_type": "code",
      "execution_count": null,
      "metadata": {
        "id": "fdOsCMtPVZNT"
      },
      "outputs": [],
      "source": [
        "# In a given list of numbers, swap the second and fourth element\n"
      ]
    },
    {
      "cell_type": "code",
      "execution_count": null,
      "metadata": {
        "id": "gNK-tRxdVZQc"
      },
      "outputs": [],
      "source": [
        "# Take a list of two numbers and arrange them in ascending order\n"
      ]
    },
    {
      "cell_type": "code",
      "execution_count": null,
      "metadata": {
        "id": "Vaps55ZVXACM"
      },
      "outputs": [],
      "source": [
        "# Create two lists : one having your 10th class board marks and another having your +2 board marks for each subject.\n",
        "# Create another list that contains both these lists. So this new list will have 2 elements, both of which are lists.\n"
      ]
    },
    {
      "cell_type": "code",
      "execution_count": null,
      "metadata": {
        "id": "STUZssuWYbKM"
      },
      "outputs": [],
      "source": [
        "# In the above list of lists, print the marks in the 2nd element of the first list\n"
      ]
    },
    {
      "cell_type": "code",
      "execution_count": null,
      "metadata": {
        "id": "KIGZ86CUDPQP"
      },
      "outputs": [],
      "source": [
        "# Reference for further learning : https://www.geeksforgeeks.org/python-lists/"
      ]
    }
  ],
  "metadata": {
    "colab": {
      "collapsed_sections": [
        "DlOtkbEOnRxH",
        "ml2rzueuWTEF",
        "WChMBslwWCdt",
        "6kBuGXElV-OI",
        "2NhjngNAV3II",
        "vwK1cyynVWpR"
      ],
      "provenance": []
    },
    "kernelspec": {
      "display_name": "Python 3",
      "name": "python3"
    },
    "language_info": {
      "codemirror_mode": {
        "name": "ipython",
        "version": 3
      },
      "file_extension": ".py",
      "mimetype": "text/x-python",
      "name": "python",
      "nbconvert_exporter": "python",
      "pygments_lexer": "ipython3",
      "version": "3.11.4"
    }
  },
  "nbformat": 4,
  "nbformat_minor": 0
}
