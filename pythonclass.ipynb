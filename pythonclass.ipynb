{
 "cells": [
  {
   "cell_type": "markdown",
   "metadata": {},
   "source": [
    "Q. Find greatest of given three numbers."
   ]
  },
  {
   "cell_type": "code",
   "execution_count": 42,
   "metadata": {},
   "outputs": [
    {
     "name": "stdout",
     "output_type": "stream",
     "text": [
      "12 12 23\n",
      "c is the greatest\n"
     ]
    }
   ],
   "source": [
    "# method 1 (considering chances of being equal also)\n",
    "\n",
    "\n",
    "a=int(input('a='))\n",
    "b=int(input('b='))\n",
    "c=int(input('c='))\n",
    "print(a,b,c)\n",
    "if a>b:\n",
    "    if a>c:\n",
    "        print('a is the greatest')\n",
    "    elif a==c:\n",
    "        print('both a and c are equal and greatest')    \n",
    "    else:\n",
    "        print('c is the greatest')\n",
    "elif a<b:\n",
    "    if b>c:\n",
    "        print('b is the greatest')\n",
    "    elif b==c:\n",
    "        print('both b and c are equal and greatest')    \n",
    "    else:\n",
    "        print('c is the greatest')                \n",
    "elif a==b:\n",
    "    if c>a:\n",
    "        print('c is the greatest')\n",
    "    elif c<a:\n",
    "        print('both a and b are equal and greatest')  \n",
    "    else:\n",
    "        print('all three numbers are equal')"
   ]
  },
  {
   "cell_type": "code",
   "execution_count": null,
   "metadata": {},
   "outputs": [],
   "source": []
  },
  {
   "cell_type": "code",
   "execution_count": null,
   "metadata": {},
   "outputs": [],
   "source": []
  },
  {
   "cell_type": "code",
   "execution_count": null,
   "metadata": {},
   "outputs": [],
   "source": []
  },
  {
   "cell_type": "markdown",
   "metadata": {},
   "source": [
    "1. Given two numbers a and b, find a/b (b could be zero)\n"
   ]
  },
  {
   "cell_type": "code",
   "execution_count": 43,
   "metadata": {},
   "outputs": [
    {
     "name": "stdout",
     "output_type": "stream",
     "text": [
      "12.0 435.0\n",
      "0.027586206896551724\n"
     ]
    }
   ],
   "source": [
    "# with float entry\n",
    "\n",
    "a=float(input(\"Enter a number\"))\n",
    "b=float(input(\"Enter a number\"))\n",
    "print(a,b)\n",
    "if b!=0:\n",
    "    c=a/b\n",
    "    print(c)\n",
    "else:\n",
    "    print(\"division by zero is not defined|\")\n",
    "                # if we enter b as zero it will give zero division error"
   ]
  },
  {
   "cell_type": "markdown",
   "metadata": {},
   "source": [
    "2. Given a point in 2D space, find the quadrant in which it lies. \n"
   ]
  },
  {
   "cell_type": "code",
   "execution_count": 44,
   "metadata": {},
   "outputs": [
    {
     "name": "stdout",
     "output_type": "stream",
     "text": [
      "point in the 2D plain is  (23.0, 334.0)\n",
      "given cordinate lies in first quadrant\n"
     ]
    }
   ],
   "source": [
    "x=float(input(\"enter x cordinate\"))\n",
    "y=float(input(\"enter y cordinate\"))\n",
    "print(\"point in the 2D plain is \", (x,y))\n",
    "if x>0:\n",
    "    if y>0:\n",
    "        print(\"given cordinate lies in first quadrant\")\n",
    "    elif y<0:\n",
    "        print(\"the given cordinate lies in forth quadrant\")\n",
    "    else:\n",
    "        print(\"the cordinate lies on x axis\")\n",
    "elif x<0:\n",
    "    if y>0:\n",
    "        print(\"given cordinate lies in second quadrant\")\n",
    "    elif y<0:\n",
    "        print(\"the given cordinate lies in third quadrant\")   \n",
    "    else:\n",
    "        print(\"the cordinate lies on x axis\") \n",
    "else:\n",
    "    if y!=0:\n",
    "        print(\"the cordinate lies on y axis\")\n",
    "    else:\n",
    "        print(\"the point lies on origin\")                        \n",
    "    \n",
    " "
   ]
  },
  {
   "cell_type": "code",
   "execution_count": 45,
   "metadata": {},
   "outputs": [
    {
     "name": "stdout",
     "output_type": "stream",
     "text": [
      "0\n",
      "1\n",
      "2\n",
      "3\n"
     ]
    }
   ],
   "source": [
    "for i in range(4):\n",
    "    print(i)"
   ]
  },
  {
   "cell_type": "markdown",
   "metadata": {},
   "source": [
    "3. Given two points in 2D space, find the slope and y-intercept of the line joining them. Consider all cases\n",
    "\n"
   ]
  },
  {
   "cell_type": "code",
   "execution_count": 46,
   "metadata": {},
   "outputs": [
    {
     "name": "stdout",
     "output_type": "stream",
     "text": [
      "both points in the plain are  (234.0, 23.0) (2.0, 23.0)\n",
      "slope of the line is  -0.0\n",
      "y intecept of the given line is 23.0\n"
     ]
    }
   ],
   "source": [
    "x1=float(input(\"enter x1 cordinate\"))\n",
    "y1=float(input(\"enter y1 cordinate\"))\n",
    "x2=float(input(\"enter x2 cordinate\"))\n",
    "y2=float(input(\"enter y2 cordinate\"))\n",
    "print(\"both points in the plain are \",(x1,y1),(x2,y2))\n",
    "slope=(y2-y1)/(x2-x1)\n",
    "y_intercept=(slope*(0.0-x1))+y1\n",
    "print(\"slope of the line is \", slope)\n",
    "print(\"y intecept of the given line is\", y_intercept)"
   ]
  },
  {
   "cell_type": "markdown",
   "metadata": {},
   "source": [
    " Given a temperature in Fahrenheit, convert it to Celsius. If the temperature is below 10 degree celcius output cold, between 10 and 25 output pleasant, between 25 and 35 output warm, and above 35 output hot.\n"
   ]
  },
  {
   "cell_type": "code",
   "execution_count": 47,
   "metadata": {},
   "outputs": [
    {
     "name": "stdout",
     "output_type": "stream",
     "text": [
      "temperature in celcius is  667.7777777777778\n",
      "pleasant\n"
     ]
    }
   ],
   "source": [
    "F=float(input(\"enter the temperature in fahrenheit\"))\n",
    "C=(5/9)*(F-32)\n",
    "print(\"temperature in celcius is \", C)\n",
    "if C<10:\n",
    "    print(\"cold\")\n",
    "elif a>=10 and a<=25:\n",
    "    print(\"pleasant\")\n",
    "else:\n",
    "    print(\"hot\")"
   ]
  },
  {
   "cell_type": "markdown",
   "metadata": {},
   "source": [
    " Given a quadratic equation with coefficients a, b and c, find the two solutions (may be real or complex). You should not take the square root of a negative number in your code.\n"
   ]
  },
  {
   "cell_type": "code",
   "execution_count": 48,
   "metadata": {},
   "outputs": [
    {
     "name": "stdout",
     "output_type": "stream",
     "text": [
      "equation is ( 234.0 )x^2+( 432.0 )x+( 212.0 )=0\n",
      "it has complex roots  real part is  -50544.0 and imaginary part of the the roots is 12713.760733944931____"
     ]
    }
   ],
   "source": [
    "a=float(input(\"enter the coefficient of x square\"))\n",
    "b=float(input(\"enter the coefficient of x\"))\n",
    "c=float(input(\"enter the constant term\"))\n",
    "print(\"equation is\", \"(\",a,\")x^2+(\",b,\")x+(\",c,\")=0\")\n",
    "D=b**2-4*a*c\n",
    "D2=0-D\n",
    "real=-b/2*a\n",
    "img=(D2**(1/2))/2*a\n",
    "if a!=0:\n",
    "    if D>=0:\n",
    "        print(\"roots of the equations are\", (-b+(D**(1/2)))/2*a, \"and\", (-b-(D**(1/2)))/2*a)\n",
    "    elif D<0:\n",
    "        print(\"it has complex roots \", \"real part is \", real,\"and imaginary part of the the roots is\",img,end=\"____\" )\n",
    "else:\n",
    "    print(\"only one root of the equation is\", -c/b)        \n",
    "    #print(\"roots of the equations are\", (-b+(D2**(1/2))\"i\")/2*a, \"and\", (-b-(D2**(1/2)\"i\")/2*a))"
   ]
  },
  {
   "cell_type": "markdown",
   "metadata": {},
   "source": [
    ". Given three points, find out whether they lie on the same straight line or not."
   ]
  },
  {
   "cell_type": "code",
   "execution_count": 59,
   "metadata": {},
   "outputs": [
    {
     "name": "stdout",
     "output_type": "stream",
     "text": [
      "given points are non collinear\n"
     ]
    }
   ],
   "source": [
    "x1=float(input(\"enter x1\"))\n",
    "y1=float(input(\"enter y1\"))\n",
    "x2=float(input(\"enter x2\"))\n",
    "y2=float(input(\"enter y2\"))\n",
    "x3=float(input(\"enter x3\"))\n",
    "y3=float(input(\"enter y3\"))\n",
    "s1=(y2-y1)/(x2-x1)                        # using slope method for collinearty\n",
    "s2=(y3-y1)/(x3-x1)\n",
    "s3=(y3-y2)/(x3-x2)\n",
    "if x1!=x2 and x2!=x3 and x1!=x3:\n",
    "    if s1==s2==s3:\n",
    "        print(\"given points are collinear\")\n",
    "    elif x1==x2==x3:\n",
    "        print(\"given points are collinear\")\n",
    "    else:\n",
    "        print(\"given points are non collinear\")\n"
   ]
  },
  {
   "cell_type": "code",
   "execution_count": 60,
   "metadata": {},
   "outputs": [
    {
     "name": "stdout",
     "output_type": "stream",
     "text": [
      "(23.0, 12.0) (23.0, 23.0) (12.0, 34.0)\n",
      "they are not collinear\n"
     ]
    }
   ],
   "source": [
    "# method 2\n",
    "x1=float(input(\"enter x1\"))\n",
    "y1=float(input(\"enter y1\"))\n",
    "x2=float(input(\"enter x2\"))\n",
    "y2=float(input(\"enter y2\"))\n",
    "x3=float(input(\"enter x3\"))\n",
    "y3=float(input(\"enter y3\"))\n",
    "print((x1,y1),(x2,y2),(x3,y3))\n",
    "A= (x1*(y2-y3)+x2*(y3-y1)+x3*(y1-y2))\n",
    "if A==0:\n",
    "    print(\"given points are collinear\")\n",
    "else:\n",
    "    print(\"they are not collinear\")"
   ]
  },
  {
   "cell_type": "code",
   "execution_count": null,
   "metadata": {},
   "outputs": [],
   "source": []
  },
  {
   "cell_type": "code",
   "execution_count": 57,
   "metadata": {},
   "outputs": [
    {
     "name": "stdout",
     "output_type": "stream",
     "text": [
      "False\n"
     ]
    }
   ],
   "source": [
    "a=2\n",
    "b=2\n",
    "c=3\n",
    "print(a==b==c)"
   ]
  },
  {
   "cell_type": "code",
   "execution_count": null,
   "metadata": {},
   "outputs": [],
   "source": []
  }
 ],
 "metadata": {
  "kernelspec": {
   "display_name": "Python 3",
   "language": "python",
   "name": "python3"
  },
  "language_info": {
   "codemirror_mode": {
    "name": "ipython",
    "version": 3
   },
   "file_extension": ".py",
   "mimetype": "text/x-python",
   "name": "python",
   "nbconvert_exporter": "python",
   "pygments_lexer": "ipython3",
   "version": "3.11.4"
  },
  "orig_nbformat": 4
 },
 "nbformat": 4,
 "nbformat_minor": 2
}
